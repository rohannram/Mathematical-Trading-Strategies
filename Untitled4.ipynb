{
 "cells": [
  {
   "cell_type": "code",
   "execution_count": 7,
   "id": "a156564f",
   "metadata": {},
   "outputs": [
    {
     "name": "stdout",
     "output_type": "stream",
     "text": [
      "[*********************100%***********************]  1 of 1 completed\n",
      "[*********************100%***********************]  1 of 1 completed\n",
      "[*********************100%***********************]  1 of 1 completed\n",
      "[*********************100%***********************]  1 of 1 completed\n",
      "[*********************100%***********************]  1 of 1 completed\n",
      "[*********************100%***********************]  1 of 1 completed\n",
      "[*********************100%***********************]  1 of 1 completed\n",
      "[*********************100%***********************]  1 of 1 completed\n",
      "[*********************100%***********************]  1 of 1 completed\n",
      "[*********************100%***********************]  1 of 1 completed\n"
     ]
    }
   ],
   "source": [
    "# Importing libraries\n",
    "import numpy as np\n",
    "import pandas as pd\n",
    "import math\n",
    "import yfinance as yf\n",
    "\n",
    "\n",
    "ticker1=\"AAPL\"\n",
    "ticker2=\"HPQ\"\n",
    "ticker3=\"GOOGL\"\n",
    "ticker4=\"MSFT\"\n",
    "ticker5=\"BA\"\n",
    "Ticker1=\"^GSPC\"\n",
    "Ticker2=\"^DJI\"\n",
    "Ticker3=\"^NYA\"\n",
    "Ticker4=\"^N225\"\n",
    "Ticker5=\"^BSESN\"\n",
    "data1 = yf.download(ticker1, start=\"2010-01-01\", end=\"2023-05-01\")\n",
    "data2 = yf.download(ticker2, start=\"2010-01-01\", end=\"2023-05-01\")\n",
    "data3 = yf.download(ticker3, start=\"2010-01-01\", end=\"2023-05-01\")\n",
    "data4 = yf.download(ticker4, start=\"2010-01-01\", end=\"2023-05-01\")\n",
    "data5 = yf.download(ticker5, start=\"2010-01-01\", end=\"2023-05-01\")\n",
    "Data1 = yf.download(Ticker1, start=\"2010-01-01\", end=\"2023-05-01\")\n",
    "Data2 = yf.download(Ticker2, start=\"2010-01-01\", end=\"2023-05-01\")\n",
    "Data3 = yf.download(Ticker3, start=\"2010-01-01\", end=\"2023-05-01\")\n",
    "Data4 = yf.download(Ticker4, start=\"2010-01-01\", end=\"2023-05-01\")\n",
    "Data5 = yf.download(Ticker5, start=\"2010-01-01\", end=\"2023-05-01\")\n",
    "\n"
   ]
  },
  {
   "cell_type": "code",
   "execution_count": 10,
   "id": "76e218dd",
   "metadata": {},
   "outputs": [
    {
     "name": "stdout",
     "output_type": "stream",
     "text": [
      "22.24384688314914 %\n",
      "26.297455545713618 %\n",
      "20.50625531209582 %\n",
      "20.077485127292093 %\n",
      "26.958685349085393 %\n"
     ]
    }
   ],
   "source": [
    "#volatility calculation of stocks\n",
    "data1['Daily Returns']=((data1['Close']-data1['Open'])/(data1['Open']))*100\n",
    "dr1=(data1['Daily Returns'].std())*pow(252,0.5)\n",
    "print(str(dr1)+ \" %\")\n",
    "data2['Daily Returns']=((data2['Close']-data2['Open'])/(data2['Open']))*100\n",
    "dr2=(data2['Daily Returns'].std())*pow(252,0.5)\n",
    "print(str(dr2)+ \" %\")\n",
    "data3['Daily Returns']=((data3['Close']-data3['Open'])/(data3[\"Open\"]))*100\n",
    "dr3=(data3['Daily Returns'].std())*pow(252,0.5)\n",
    "print(str(dr3)+ \" %\")\n",
    "data4['Daily Returns']=((data4['Close']-data4['Open'])/(data4['Open']))*100\n",
    "dr4=(data4['Daily Returns'].std())*pow(252,0.5)\n",
    "print(str(dr4)+\" %\")\n",
    "data5['Daily Returns']=((data5['Close']-data5['Open'])/(data5['Open']))*100\n",
    "dr5=(data5['Daily Returns'].std())*pow(252,0.5)\n",
    "print(str(dr5)+\" %\")\n",
    "\n",
    "\n",
    "\n"
   ]
  },
  {
   "cell_type": "code",
   "execution_count": 11,
   "id": "cc03127e",
   "metadata": {},
   "outputs": [
    {
     "name": "stdout",
     "output_type": "stream",
     "text": [
      "2120.0083324068864 %\n",
      "24.731013000324307 %\n",
      "584.3727785685321 %\n",
      "892.7625272744684 %\n",
      "268.0669235600672 %\n"
     ]
    }
   ],
   "source": [
    "data1['Daily']=data1['Close']-data1['Open']\n",
    "data2['Daily']=data2['Close']-data2['Open']\n",
    "data3['Daily']=data3['Close']-data3['Open']\n",
    "data4['Daily']=data4['Close']-data4['Open']\n",
    "data5['Daily']=data5['Close']-data5['Open']\n",
    "\n",
    "# Cumilative Returns\n",
    "cr1=((data1.iloc[3352,3] - data1.iloc[0,3])/(data1.iloc[0,3]))*100\n",
    "cr2=((data2.iloc[3352,3] - data2.iloc[0,3])/(data2.iloc[0,3]))*100\n",
    "cr3=((data3.iloc[3352,3] - data3.iloc[0,3])/(data3.iloc[0,3]))*100\n",
    "cr4=((data4.iloc[3352,3] - data4.iloc[0,3])/(data4.iloc[0,3]))*100\n",
    "cr5=((data5.iloc[3352,3] - data5.iloc[0,3])/(data5.iloc[0,3]))*100\n",
    "print(str(cr1)+\" %\")\n",
    "print(str(cr2)+\" %\")\n",
    "print(str(cr3)+\" %\")\n",
    "print(str(cr4)+\" %\")\n",
    "print(str(cr5)+\" %\")\n",
    "\n"
   ]
  },
  {
   "cell_type": "code",
   "execution_count": 12,
   "id": "2ffdf313",
   "metadata": {},
   "outputs": [
    {
     "name": "stdout",
     "output_type": "stream",
     "text": [
      "1.385723478722359\n",
      "-0.12493633136549685\n",
      "0.7650074618402362\n",
      "1.0101428815956972\n",
      "0.31151689269648963\n"
     ]
    }
   ],
   "source": [
    "# sharpe ratio calculation\n",
    "sr1=((pow((data1.iloc[3352,3]/data1.iloc[0,3]),0.1)-1)*100-5.52)/(data1['Daily Returns'].std()*pow(252,0.5))\n",
    "sr2=((pow((data2.iloc[3352,3]/data2.iloc[0,3]),0.1)-1)*100-5.52)/(data2['Daily Returns'].std()*pow(252,0.5))\n",
    "sr3=((pow((data3.iloc[3352,3]/data3.iloc[0,3]),0.1)-1)*100-5.52)/(data3['Daily Returns'].std()*pow(252,0.5))\n",
    "sr4=((pow((data4.iloc[3352,3]/data4.iloc[0,3]),0.1)-1)*100-5.52)/(data4['Daily Returns'].std()*pow(252,0.5))\n",
    "sr5=((pow((data5.iloc[3352,3]/data5.iloc[0,3]),0.1)-1)*100-5.52)/(data5['Daily Returns'].std()*pow(252,0.5))\n",
    "print(sr1)\n",
    "print(sr2)\n",
    "print(sr3)\n",
    "print(sr4)\n",
    "print(sr5)\n",
    "\n"
   ]
  },
  {
   "cell_type": "code",
   "execution_count": 13,
   "id": "4897da48",
   "metadata": {},
   "outputs": [
    {
     "name": "stdout",
     "output_type": "stream",
     "text": [
      "14.865684203963376 %\n",
      "14.489920173894719 %\n",
      "15.613935366838831 %\n",
      "14.49367984446237 %\n",
      "14.682246439096778 %\n"
     ]
    }
   ],
   "source": [
    "\n"
   ]
  },
  {
   "cell_type": "code",
   "execution_count": 15,
   "id": "46916152",
   "metadata": {},
   "outputs": [
    {
     "name": "stdout",
     "output_type": "stream",
     "text": [
      "2.2914289592194463\n",
      "-0.2106607712940862\n",
      "1.2231025945123613\n",
      "1.666806500601043\n",
      "0.4867675655322143\n"
     ]
    }
   ],
   "source": [
    "data1['Neg']=data1['Daily Returns']\n",
    "data2['Neg']=data2['Daily Returns']\n",
    "data3['Neg']=data3['Daily Returns']\n",
    "data4['Neg']=data4['Daily Returns']\n",
    "data5['Neg']=data5['Daily Returns']\n",
    "\n",
    "for i in range(3353):\n",
    " if(data1.iloc[i,8] - 0.02132 > 0):\n",
    "        data1.iloc[i,8]=0\n",
    " else:\n",
    "    data1.iloc[i,8]=data1.iloc[i,8]-0.02132\n",
    "    \n",
    "for i in range(3353):\n",
    " if(data2.iloc[i,8] - 0.02132 > 0):\n",
    "        data2.iloc[i,8]=0\n",
    " else:\n",
    "    data2.iloc[i,8]=data2.iloc[i,8]-0.02132  \n",
    "    \n",
    "for i in range(3353):\n",
    " if(data3.iloc[i,8] - 0.02132 > 0):\n",
    "        data3.iloc[i,8]=0\n",
    " else:\n",
    "    data3.iloc[i,8]=data3.iloc[i,8]-0.02132  \n",
    "    \n",
    "for i in range(3353):\n",
    " if(data4.iloc[i,8] - 0.02132 > 0):\n",
    "        data4.iloc[i,8]=0\n",
    " else:\n",
    "    data4.iloc[i,8]=data4.iloc[i,8]-0.02132\n",
    "    \n",
    "for i in range(3353):\n",
    " if(data5.iloc[i,8] - 0.02132 > 0):\n",
    "        data5.iloc[i,8]=0\n",
    " else:\n",
    "    data5.iloc[i,8]=data5.iloc[i,8]-0.02132  \n",
    "    \n",
    "    \n",
    "\n",
    "#Sortiono Ratio calculation\n",
    "st1=((pow((data1.iloc[3352,3]/data1.iloc[0,3]),0.1)-1)*100-5.52)/(data1['Neg'].std()*pow(252,0.5))\n",
    "st2=((pow((data2.iloc[3352,3]/data2.iloc[0,3]),0.1)-1)*100-5.52)/(data2['Neg'].std()*pow(252,0.5))\n",
    "st3=((pow((data3.iloc[3352,3]/data3.iloc[0,3]),0.1)-1)*100-5.52)/(data3['Neg'].std()*pow(252,0.5))\n",
    "st4=((pow((data4.iloc[3352,3]/data4.iloc[0,3]),0.1)-1)*100-5.52)/(data4['Neg'].std()*pow(252,0.5))\n",
    "st5=((pow((data5.iloc[3352,3]/data5.iloc[0,3]),0.1)-1)*100-5.52)/(data5['Neg'].std()*pow(252,0.5))\n",
    "print(st1)\n",
    "print(st2)\n",
    "print(st3)\n",
    "print(st4)\n",
    "print(st5)\n",
    "\n"
   ]
  },
  {
   "cell_type": "code",
   "execution_count": 16,
   "id": "40ee994e",
   "metadata": {},
   "outputs": [
    {
     "name": "stdout",
     "output_type": "stream",
     "text": [
      "14.865684203963376 %\n",
      "14.489920173894719 %\n",
      "15.613935366838831 %\n",
      "14.49367984446237 %\n",
      "14.682246439096778 %\n"
     ]
    }
   ],
   "source": [
    "#volatility calculation of indices\n",
    "Data1['Daily Returns']=((Data1['Close']-Data1['Open'])/(Data1['Open']))*100\n",
    "Dr1=Data1['Daily Returns'].std()*pow(252,0.5)\n",
    "print(str(Dr1)+ \" %\")\n",
    "Data2['Daily Returns']=((Data2['Close']-Data2['Open'])/(Data2['Open']))*100\n",
    "Dr2=Data2['Daily Returns'].std()*pow(252,0.5)\n",
    "print(str(Dr2)+ \" %\")\n",
    "Data3['Daily Returns']=((Data3['Close']-Data3['Open'])/(Data3[\"Open\"]))*100\n",
    "Dr3=Data3['Daily Returns'].std()*pow(252,0.5)\n",
    "print(str(Dr3)+ \" %\")\n",
    "Data4['Daily Returns']=((Data4['Close']-Data4['Open'])/(Data4['Open']))*100\n",
    "Dr4=Data4['Daily Returns'].std()*pow(252,0.5)\n",
    "print(str(Dr4)+\" %\")\n",
    "Data5['Daily Returns']=((Data5['Close']-Data5['Open'])/(Data5['Open']))*100\n",
    "Dr5=Data5['Daily Returns'].std()*pow(252,0.5)\n",
    "print(str(Dr5)+\" %\")\n",
    "\n",
    "\n"
   ]
  },
  {
   "cell_type": "code",
   "execution_count": 20,
   "id": "e7145471",
   "metadata": {},
   "outputs": [
    {
     "ename": "IndexError",
     "evalue": "index 3352 is out of bounds for axis 0 with size 3275",
     "output_type": "error",
     "traceback": [
      "\u001b[0;31m---------------------------------------------------------------------------\u001b[0m",
      "\u001b[0;31mIndexError\u001b[0m                                Traceback (most recent call last)",
      "Cell \u001b[0;32mIn[20], line 13\u001b[0m\n\u001b[1;32m     11\u001b[0m Cr3\u001b[38;5;241m=\u001b[39m((Data3\u001b[38;5;241m.\u001b[39miloc[\u001b[38;5;241m3352\u001b[39m,\u001b[38;5;241m3\u001b[39m] \u001b[38;5;241m-\u001b[39m Data3\u001b[38;5;241m.\u001b[39miloc[\u001b[38;5;241m0\u001b[39m,\u001b[38;5;241m3\u001b[39m])\u001b[38;5;241m/\u001b[39m(Data3\u001b[38;5;241m.\u001b[39miloc[\u001b[38;5;241m0\u001b[39m,\u001b[38;5;241m3\u001b[39m]))\u001b[38;5;241m*\u001b[39m\u001b[38;5;241m100\u001b[39m\n\u001b[1;32m     12\u001b[0m Cr4\u001b[38;5;241m=\u001b[39m((Data4\u001b[38;5;241m.\u001b[39miloc[\u001b[38;5;241m3258\u001b[39m,\u001b[38;5;241m3\u001b[39m] \u001b[38;5;241m-\u001b[39m Data4\u001b[38;5;241m.\u001b[39miloc[\u001b[38;5;241m0\u001b[39m,\u001b[38;5;241m3\u001b[39m])\u001b[38;5;241m/\u001b[39m(Data4\u001b[38;5;241m.\u001b[39miloc[\u001b[38;5;241m0\u001b[39m,\u001b[38;5;241m3\u001b[39m]))\u001b[38;5;241m*\u001b[39m\u001b[38;5;241m100\u001b[39m\n\u001b[0;32m---> 13\u001b[0m Cr5\u001b[38;5;241m=\u001b[39m((\u001b[43mData5\u001b[49m\u001b[38;5;241;43m.\u001b[39;49m\u001b[43miloc\u001b[49m\u001b[43m[\u001b[49m\u001b[38;5;241;43m3352\u001b[39;49m\u001b[43m,\u001b[49m\u001b[38;5;241;43m3\u001b[39;49m\u001b[43m]\u001b[49m \u001b[38;5;241m-\u001b[39m Data5\u001b[38;5;241m.\u001b[39miloc[\u001b[38;5;241m0\u001b[39m,\u001b[38;5;241m3\u001b[39m])\u001b[38;5;241m/\u001b[39m(Data5\u001b[38;5;241m.\u001b[39miloc[\u001b[38;5;241m0\u001b[39m,\u001b[38;5;241m3\u001b[39m]))\u001b[38;5;241m*\u001b[39m\u001b[38;5;241m100\u001b[39m\n\u001b[1;32m     14\u001b[0m \u001b[38;5;28mprint\u001b[39m(\u001b[38;5;28mstr\u001b[39m(Cr1)\u001b[38;5;241m+\u001b[39m\u001b[38;5;124m\"\u001b[39m\u001b[38;5;124m \u001b[39m\u001b[38;5;124m%\u001b[39m\u001b[38;5;124m\"\u001b[39m)\n\u001b[1;32m     15\u001b[0m \u001b[38;5;28mprint\u001b[39m(\u001b[38;5;28mstr\u001b[39m(Cr2)\u001b[38;5;241m+\u001b[39m\u001b[38;5;124m\"\u001b[39m\u001b[38;5;124m \u001b[39m\u001b[38;5;124m%\u001b[39m\u001b[38;5;124m\"\u001b[39m)\n",
      "File \u001b[0;32m~/anaconda3/lib/python3.10/site-packages/pandas/core/indexing.py:1066\u001b[0m, in \u001b[0;36m_LocationIndexer.__getitem__\u001b[0;34m(self, key)\u001b[0m\n\u001b[1;32m   1064\u001b[0m     key \u001b[38;5;241m=\u001b[39m \u001b[38;5;28mtuple\u001b[39m(com\u001b[38;5;241m.\u001b[39mapply_if_callable(x, \u001b[38;5;28mself\u001b[39m\u001b[38;5;241m.\u001b[39mobj) \u001b[38;5;28;01mfor\u001b[39;00m x \u001b[38;5;129;01min\u001b[39;00m key)\n\u001b[1;32m   1065\u001b[0m     \u001b[38;5;28;01mif\u001b[39;00m \u001b[38;5;28mself\u001b[39m\u001b[38;5;241m.\u001b[39m_is_scalar_access(key):\n\u001b[0;32m-> 1066\u001b[0m         \u001b[38;5;28;01mreturn\u001b[39;00m \u001b[38;5;28;43mself\u001b[39;49m\u001b[38;5;241;43m.\u001b[39;49m\u001b[43mobj\u001b[49m\u001b[38;5;241;43m.\u001b[39;49m\u001b[43m_get_value\u001b[49m\u001b[43m(\u001b[49m\u001b[38;5;241;43m*\u001b[39;49m\u001b[43mkey\u001b[49m\u001b[43m,\u001b[49m\u001b[43m \u001b[49m\u001b[43mtakeable\u001b[49m\u001b[38;5;241;43m=\u001b[39;49m\u001b[38;5;28;43mself\u001b[39;49m\u001b[38;5;241;43m.\u001b[39;49m\u001b[43m_takeable\u001b[49m\u001b[43m)\u001b[49m\n\u001b[1;32m   1067\u001b[0m     \u001b[38;5;28;01mreturn\u001b[39;00m \u001b[38;5;28mself\u001b[39m\u001b[38;5;241m.\u001b[39m_getitem_tuple(key)\n\u001b[1;32m   1068\u001b[0m \u001b[38;5;28;01melse\u001b[39;00m:\n\u001b[1;32m   1069\u001b[0m     \u001b[38;5;66;03m# we by definition only have the 0th axis\u001b[39;00m\n",
      "File \u001b[0;32m~/anaconda3/lib/python3.10/site-packages/pandas/core/frame.py:3915\u001b[0m, in \u001b[0;36mDataFrame._get_value\u001b[0;34m(self, index, col, takeable)\u001b[0m\n\u001b[1;32m   3913\u001b[0m \u001b[38;5;28;01mif\u001b[39;00m takeable:\n\u001b[1;32m   3914\u001b[0m     series \u001b[38;5;241m=\u001b[39m \u001b[38;5;28mself\u001b[39m\u001b[38;5;241m.\u001b[39m_ixs(col, axis\u001b[38;5;241m=\u001b[39m\u001b[38;5;241m1\u001b[39m)\n\u001b[0;32m-> 3915\u001b[0m     \u001b[38;5;28;01mreturn\u001b[39;00m \u001b[43mseries\u001b[49m\u001b[38;5;241;43m.\u001b[39;49m\u001b[43m_values\u001b[49m\u001b[43m[\u001b[49m\u001b[43mindex\u001b[49m\u001b[43m]\u001b[49m\n\u001b[1;32m   3917\u001b[0m series \u001b[38;5;241m=\u001b[39m \u001b[38;5;28mself\u001b[39m\u001b[38;5;241m.\u001b[39m_get_item_cache(col)\n\u001b[1;32m   3918\u001b[0m engine \u001b[38;5;241m=\u001b[39m \u001b[38;5;28mself\u001b[39m\u001b[38;5;241m.\u001b[39mindex\u001b[38;5;241m.\u001b[39m_engine\n",
      "\u001b[0;31mIndexError\u001b[0m: index 3352 is out of bounds for axis 0 with size 3275"
     ]
    }
   ],
   "source": [
    "Data1['Daily']=Data1['Close']-Data1['Open']\n",
    "Data2['Daily']=Data2['Close']-Data2['Open']\n",
    "Data3['Daily']=Data3['Close']-Data3['Open']\n",
    "Data4['Daily']=Data4['Close']-Data4['Open']\n",
    "Data5['Daily']=Data5['Close']-Data5['Open']\n",
    "\n",
    "\n",
    "# Cumulative Retun\n",
    "Cr1=((Data1.iloc[3351,3] - Data1.iloc[0,3])/(Data1.iloc[0,3]))*100\n",
    "Cr2=((Data2.iloc[3352,3] - Data2.iloc[0,3])/(Data2.iloc[0,3]))*100\n",
    "Cr3=((Data3.iloc[3352,3] - Data3.iloc[0,3])/(Data3.iloc[0,3]))*100\n",
    "Cr4=((Data4.iloc[3258,3] - Data4.iloc[0,3])/(Data4.iloc[0,3]))*100\n",
    "Cr5=((Data5.iloc[3352,3] - Data5.iloc[0,3])/(Data5.iloc[0,3]))*100\n",
    "print(str(Cr1)+\" %\")\n",
    "print(str(Cr2)+\" %\")\n",
    "print(str(Cr3)+\" %\")\n",
    "print(str(Cr4)+\" %\")\n",
    "print(str(Cr5)+\" %\")"
   ]
  },
  {
   "cell_type": "code",
   "execution_count": 18,
   "id": "7dad3f82",
   "metadata": {},
   "outputs": [
    {
     "ename": "IndexError",
     "evalue": "index 3352 is out of bounds for axis 0 with size 3275",
     "output_type": "error",
     "traceback": [
      "\u001b[0;31m---------------------------------------------------------------------------\u001b[0m",
      "\u001b[0;31mIndexError\u001b[0m                                Traceback (most recent call last)",
      "Cell \u001b[0;32mIn[18], line 6\u001b[0m\n\u001b[1;32m      4\u001b[0m Sr3\u001b[38;5;241m=\u001b[39m((\u001b[38;5;28mpow\u001b[39m((Data3\u001b[38;5;241m.\u001b[39miloc[\u001b[38;5;241m3352\u001b[39m,\u001b[38;5;241m3\u001b[39m]\u001b[38;5;241m/\u001b[39mData3\u001b[38;5;241m.\u001b[39miloc[\u001b[38;5;241m0\u001b[39m,\u001b[38;5;241m3\u001b[39m]),\u001b[38;5;241m0.1\u001b[39m)\u001b[38;5;241m-\u001b[39m\u001b[38;5;241m1\u001b[39m)\u001b[38;5;241m*\u001b[39m\u001b[38;5;241m100\u001b[39m\u001b[38;5;241m-\u001b[39m\u001b[38;5;241m5.52\u001b[39m)\u001b[38;5;241m/\u001b[39m(Data3[\u001b[38;5;124m'\u001b[39m\u001b[38;5;124mDaily Returns\u001b[39m\u001b[38;5;124m'\u001b[39m]\u001b[38;5;241m.\u001b[39mstd()\u001b[38;5;241m*\u001b[39m\u001b[38;5;28mpow\u001b[39m(\u001b[38;5;241m252\u001b[39m,\u001b[38;5;241m0.5\u001b[39m))\n\u001b[1;32m      5\u001b[0m Sr4\u001b[38;5;241m=\u001b[39m((\u001b[38;5;28mpow\u001b[39m((Data4\u001b[38;5;241m.\u001b[39miloc[\u001b[38;5;241m3258\u001b[39m,\u001b[38;5;241m3\u001b[39m]\u001b[38;5;241m/\u001b[39mData4\u001b[38;5;241m.\u001b[39miloc[\u001b[38;5;241m0\u001b[39m,\u001b[38;5;241m3\u001b[39m]),\u001b[38;5;241m0.1\u001b[39m)\u001b[38;5;241m-\u001b[39m\u001b[38;5;241m1\u001b[39m)\u001b[38;5;241m*\u001b[39m\u001b[38;5;241m100\u001b[39m\u001b[38;5;241m-\u001b[39m\u001b[38;5;241m5.52\u001b[39m)\u001b[38;5;241m/\u001b[39m(Data4[\u001b[38;5;124m'\u001b[39m\u001b[38;5;124mDaily Returns\u001b[39m\u001b[38;5;124m'\u001b[39m]\u001b[38;5;241m.\u001b[39mstd()\u001b[38;5;241m*\u001b[39m\u001b[38;5;28mpow\u001b[39m(\u001b[38;5;241m252\u001b[39m,\u001b[38;5;241m0.5\u001b[39m))\n\u001b[0;32m----> 6\u001b[0m Sr5\u001b[38;5;241m=\u001b[39m((\u001b[38;5;28mpow\u001b[39m((\u001b[43mData5\u001b[49m\u001b[38;5;241;43m.\u001b[39;49m\u001b[43miloc\u001b[49m\u001b[43m[\u001b[49m\u001b[38;5;241;43m3352\u001b[39;49m\u001b[43m,\u001b[49m\u001b[38;5;241;43m3\u001b[39;49m\u001b[43m]\u001b[49m\u001b[38;5;241m/\u001b[39mData5\u001b[38;5;241m.\u001b[39miloc[\u001b[38;5;241m0\u001b[39m,\u001b[38;5;241m3\u001b[39m]),\u001b[38;5;241m0.1\u001b[39m)\u001b[38;5;241m-\u001b[39m\u001b[38;5;241m1\u001b[39m)\u001b[38;5;241m*\u001b[39m\u001b[38;5;241m100\u001b[39m\u001b[38;5;241m-\u001b[39m\u001b[38;5;241m5.52\u001b[39m)\u001b[38;5;241m/\u001b[39m(Data5[\u001b[38;5;124m'\u001b[39m\u001b[38;5;124mDaily Returns\u001b[39m\u001b[38;5;124m'\u001b[39m]\u001b[38;5;241m.\u001b[39mstd()\u001b[38;5;241m*\u001b[39m\u001b[38;5;28mpow\u001b[39m(\u001b[38;5;241m252\u001b[39m,\u001b[38;5;241m0.5\u001b[39m))\n\u001b[1;32m      7\u001b[0m \u001b[38;5;28mprint\u001b[39m(Sr1)\n\u001b[1;32m      8\u001b[0m \u001b[38;5;28mprint\u001b[39m(Sr2)\n",
      "File \u001b[0;32m~/anaconda3/lib/python3.10/site-packages/pandas/core/indexing.py:1066\u001b[0m, in \u001b[0;36m_LocationIndexer.__getitem__\u001b[0;34m(self, key)\u001b[0m\n\u001b[1;32m   1064\u001b[0m     key \u001b[38;5;241m=\u001b[39m \u001b[38;5;28mtuple\u001b[39m(com\u001b[38;5;241m.\u001b[39mapply_if_callable(x, \u001b[38;5;28mself\u001b[39m\u001b[38;5;241m.\u001b[39mobj) \u001b[38;5;28;01mfor\u001b[39;00m x \u001b[38;5;129;01min\u001b[39;00m key)\n\u001b[1;32m   1065\u001b[0m     \u001b[38;5;28;01mif\u001b[39;00m \u001b[38;5;28mself\u001b[39m\u001b[38;5;241m.\u001b[39m_is_scalar_access(key):\n\u001b[0;32m-> 1066\u001b[0m         \u001b[38;5;28;01mreturn\u001b[39;00m \u001b[38;5;28;43mself\u001b[39;49m\u001b[38;5;241;43m.\u001b[39;49m\u001b[43mobj\u001b[49m\u001b[38;5;241;43m.\u001b[39;49m\u001b[43m_get_value\u001b[49m\u001b[43m(\u001b[49m\u001b[38;5;241;43m*\u001b[39;49m\u001b[43mkey\u001b[49m\u001b[43m,\u001b[49m\u001b[43m \u001b[49m\u001b[43mtakeable\u001b[49m\u001b[38;5;241;43m=\u001b[39;49m\u001b[38;5;28;43mself\u001b[39;49m\u001b[38;5;241;43m.\u001b[39;49m\u001b[43m_takeable\u001b[49m\u001b[43m)\u001b[49m\n\u001b[1;32m   1067\u001b[0m     \u001b[38;5;28;01mreturn\u001b[39;00m \u001b[38;5;28mself\u001b[39m\u001b[38;5;241m.\u001b[39m_getitem_tuple(key)\n\u001b[1;32m   1068\u001b[0m \u001b[38;5;28;01melse\u001b[39;00m:\n\u001b[1;32m   1069\u001b[0m     \u001b[38;5;66;03m# we by definition only have the 0th axis\u001b[39;00m\n",
      "File \u001b[0;32m~/anaconda3/lib/python3.10/site-packages/pandas/core/frame.py:3915\u001b[0m, in \u001b[0;36mDataFrame._get_value\u001b[0;34m(self, index, col, takeable)\u001b[0m\n\u001b[1;32m   3913\u001b[0m \u001b[38;5;28;01mif\u001b[39;00m takeable:\n\u001b[1;32m   3914\u001b[0m     series \u001b[38;5;241m=\u001b[39m \u001b[38;5;28mself\u001b[39m\u001b[38;5;241m.\u001b[39m_ixs(col, axis\u001b[38;5;241m=\u001b[39m\u001b[38;5;241m1\u001b[39m)\n\u001b[0;32m-> 3915\u001b[0m     \u001b[38;5;28;01mreturn\u001b[39;00m \u001b[43mseries\u001b[49m\u001b[38;5;241;43m.\u001b[39;49m\u001b[43m_values\u001b[49m\u001b[43m[\u001b[49m\u001b[43mindex\u001b[49m\u001b[43m]\u001b[49m\n\u001b[1;32m   3917\u001b[0m series \u001b[38;5;241m=\u001b[39m \u001b[38;5;28mself\u001b[39m\u001b[38;5;241m.\u001b[39m_get_item_cache(col)\n\u001b[1;32m   3918\u001b[0m engine \u001b[38;5;241m=\u001b[39m \u001b[38;5;28mself\u001b[39m\u001b[38;5;241m.\u001b[39mindex\u001b[38;5;241m.\u001b[39m_engine\n",
      "\u001b[0;31mIndexError\u001b[0m: index 3352 is out of bounds for axis 0 with size 3275"
     ]
    }
   ],
   "source": [
    "# To calculate sharpe ratio\n",
    "Sr1=((pow((Data1.iloc[3351,3]/Data1.iloc[0,3]),0.1)-1)*100-5.52)/(Data1['Daily Returns'].std()*pow(252,0.5))\n",
    "Sr2=((pow((Data2.iloc[3352,3]/Data2.iloc[0,3]),0.1)-1)*100-5.52)/(Data2['Daily Returns'].std()*pow(252,0.5))\n",
    "Sr3=((pow((Data3.iloc[3352,3]/Data3.iloc[0,3]),0.1)-1)*100-5.52)/(Data3['Daily Returns'].std()*pow(252,0.5))\n",
    "Sr4=((pow((Data4.iloc[3258,3]/Data4.iloc[0,3]),0.1)-1)*100-5.52)/(Data4['Daily Returns'].std()*pow(252,0.5))\n",
    "Sr5=((pow((Data5.iloc[3352,3]/Data5.iloc[0,3]),0.1)-1)*100-5.52)/(Data5['Daily Returns'].std()*pow(252,0.5))\n",
    "print(Sr1)\n",
    "print(Sr2)\n",
    "print(Sr3)\n",
    "print(Sr4)\n",
    "print(Sr5)\n",
    "\n"
   ]
  },
  {
   "cell_type": "code",
   "execution_count": 19,
   "id": "6ddbedc6",
   "metadata": {},
   "outputs": [
    {
     "ename": "KeyError",
     "evalue": "'Neg'",
     "output_type": "error",
     "traceback": [
      "\u001b[0;31m---------------------------------------------------------------------------\u001b[0m",
      "\u001b[0;31mKeyError\u001b[0m                                  Traceback (most recent call last)",
      "File \u001b[0;32m~/anaconda3/lib/python3.10/site-packages/pandas/core/indexes/base.py:3802\u001b[0m, in \u001b[0;36mIndex.get_loc\u001b[0;34m(self, key, method, tolerance)\u001b[0m\n\u001b[1;32m   3801\u001b[0m \u001b[38;5;28;01mtry\u001b[39;00m:\n\u001b[0;32m-> 3802\u001b[0m     \u001b[38;5;28;01mreturn\u001b[39;00m \u001b[38;5;28;43mself\u001b[39;49m\u001b[38;5;241;43m.\u001b[39;49m\u001b[43m_engine\u001b[49m\u001b[38;5;241;43m.\u001b[39;49m\u001b[43mget_loc\u001b[49m\u001b[43m(\u001b[49m\u001b[43mcasted_key\u001b[49m\u001b[43m)\u001b[49m\n\u001b[1;32m   3803\u001b[0m \u001b[38;5;28;01mexcept\u001b[39;00m \u001b[38;5;167;01mKeyError\u001b[39;00m \u001b[38;5;28;01mas\u001b[39;00m err:\n",
      "File \u001b[0;32m~/anaconda3/lib/python3.10/site-packages/pandas/_libs/index.pyx:138\u001b[0m, in \u001b[0;36mpandas._libs.index.IndexEngine.get_loc\u001b[0;34m()\u001b[0m\n",
      "File \u001b[0;32m~/anaconda3/lib/python3.10/site-packages/pandas/_libs/index.pyx:165\u001b[0m, in \u001b[0;36mpandas._libs.index.IndexEngine.get_loc\u001b[0;34m()\u001b[0m\n",
      "File \u001b[0;32mpandas/_libs/hashtable_class_helper.pxi:5745\u001b[0m, in \u001b[0;36mpandas._libs.hashtable.PyObjectHashTable.get_item\u001b[0;34m()\u001b[0m\n",
      "File \u001b[0;32mpandas/_libs/hashtable_class_helper.pxi:5753\u001b[0m, in \u001b[0;36mpandas._libs.hashtable.PyObjectHashTable.get_item\u001b[0;34m()\u001b[0m\n",
      "\u001b[0;31mKeyError\u001b[0m: 'Neg'",
      "\nThe above exception was the direct cause of the following exception:\n",
      "\u001b[0;31mKeyError\u001b[0m                                  Traceback (most recent call last)",
      "Cell \u001b[0;32mIn[19], line 2\u001b[0m\n\u001b[1;32m      1\u001b[0m \u001b[38;5;66;03m# To calculate Sortiono Ratio\u001b[39;00m\n\u001b[0;32m----> 2\u001b[0m St1\u001b[38;5;241m=\u001b[39m((\u001b[38;5;28mpow\u001b[39m((Data1\u001b[38;5;241m.\u001b[39miloc[\u001b[38;5;241m3351\u001b[39m,\u001b[38;5;241m3\u001b[39m]\u001b[38;5;241m/\u001b[39mData1\u001b[38;5;241m.\u001b[39miloc[\u001b[38;5;241m0\u001b[39m,\u001b[38;5;241m3\u001b[39m]),\u001b[38;5;241m0.1\u001b[39m)\u001b[38;5;241m-\u001b[39m\u001b[38;5;241m1\u001b[39m)\u001b[38;5;241m*\u001b[39m\u001b[38;5;241m100\u001b[39m\u001b[38;5;241m-\u001b[39m\u001b[38;5;241m5.52\u001b[39m)\u001b[38;5;241m/\u001b[39m(\u001b[43mData1\u001b[49m\u001b[43m[\u001b[49m\u001b[38;5;124;43m'\u001b[39;49m\u001b[38;5;124;43mNeg\u001b[39;49m\u001b[38;5;124;43m'\u001b[39;49m\u001b[43m]\u001b[49m\u001b[38;5;241m.\u001b[39mstd()\u001b[38;5;241m*\u001b[39m\u001b[38;5;28mpow\u001b[39m(\u001b[38;5;241m252\u001b[39m,\u001b[38;5;241m0.5\u001b[39m))\n\u001b[1;32m      3\u001b[0m St2\u001b[38;5;241m=\u001b[39m((\u001b[38;5;28mpow\u001b[39m((Data2\u001b[38;5;241m.\u001b[39miloc[\u001b[38;5;241m3351\u001b[39m,\u001b[38;5;241m3\u001b[39m]\u001b[38;5;241m/\u001b[39mData2\u001b[38;5;241m.\u001b[39miloc[\u001b[38;5;241m0\u001b[39m,\u001b[38;5;241m3\u001b[39m]),\u001b[38;5;241m0.1\u001b[39m)\u001b[38;5;241m-\u001b[39m\u001b[38;5;241m1\u001b[39m)\u001b[38;5;241m*\u001b[39m\u001b[38;5;241m100\u001b[39m\u001b[38;5;241m-\u001b[39m\u001b[38;5;241m5.52\u001b[39m)\u001b[38;5;241m/\u001b[39m(Data2[\u001b[38;5;124m'\u001b[39m\u001b[38;5;124mNeg\u001b[39m\u001b[38;5;124m'\u001b[39m]\u001b[38;5;241m.\u001b[39mstd()\u001b[38;5;241m*\u001b[39m\u001b[38;5;28mpow\u001b[39m(\u001b[38;5;241m252\u001b[39m,\u001b[38;5;241m0.5\u001b[39m))\n\u001b[1;32m      4\u001b[0m St3\u001b[38;5;241m=\u001b[39m((\u001b[38;5;28mpow\u001b[39m((Data3\u001b[38;5;241m.\u001b[39miloc[\u001b[38;5;241m3351\u001b[39m,\u001b[38;5;241m3\u001b[39m]\u001b[38;5;241m/\u001b[39mData3\u001b[38;5;241m.\u001b[39miloc[\u001b[38;5;241m0\u001b[39m,\u001b[38;5;241m3\u001b[39m]),\u001b[38;5;241m0.1\u001b[39m)\u001b[38;5;241m-\u001b[39m\u001b[38;5;241m1\u001b[39m)\u001b[38;5;241m*\u001b[39m\u001b[38;5;241m100\u001b[39m\u001b[38;5;241m-\u001b[39m\u001b[38;5;241m5.52\u001b[39m)\u001b[38;5;241m/\u001b[39m(Data3[\u001b[38;5;124m'\u001b[39m\u001b[38;5;124mNeg\u001b[39m\u001b[38;5;124m'\u001b[39m]\u001b[38;5;241m.\u001b[39mstd()\u001b[38;5;241m*\u001b[39m\u001b[38;5;28mpow\u001b[39m(\u001b[38;5;241m252\u001b[39m,\u001b[38;5;241m0.5\u001b[39m))\n",
      "File \u001b[0;32m~/anaconda3/lib/python3.10/site-packages/pandas/core/frame.py:3807\u001b[0m, in \u001b[0;36mDataFrame.__getitem__\u001b[0;34m(self, key)\u001b[0m\n\u001b[1;32m   3805\u001b[0m \u001b[38;5;28;01mif\u001b[39;00m \u001b[38;5;28mself\u001b[39m\u001b[38;5;241m.\u001b[39mcolumns\u001b[38;5;241m.\u001b[39mnlevels \u001b[38;5;241m>\u001b[39m \u001b[38;5;241m1\u001b[39m:\n\u001b[1;32m   3806\u001b[0m     \u001b[38;5;28;01mreturn\u001b[39;00m \u001b[38;5;28mself\u001b[39m\u001b[38;5;241m.\u001b[39m_getitem_multilevel(key)\n\u001b[0;32m-> 3807\u001b[0m indexer \u001b[38;5;241m=\u001b[39m \u001b[38;5;28;43mself\u001b[39;49m\u001b[38;5;241;43m.\u001b[39;49m\u001b[43mcolumns\u001b[49m\u001b[38;5;241;43m.\u001b[39;49m\u001b[43mget_loc\u001b[49m\u001b[43m(\u001b[49m\u001b[43mkey\u001b[49m\u001b[43m)\u001b[49m\n\u001b[1;32m   3808\u001b[0m \u001b[38;5;28;01mif\u001b[39;00m is_integer(indexer):\n\u001b[1;32m   3809\u001b[0m     indexer \u001b[38;5;241m=\u001b[39m [indexer]\n",
      "File \u001b[0;32m~/anaconda3/lib/python3.10/site-packages/pandas/core/indexes/base.py:3804\u001b[0m, in \u001b[0;36mIndex.get_loc\u001b[0;34m(self, key, method, tolerance)\u001b[0m\n\u001b[1;32m   3802\u001b[0m     \u001b[38;5;28;01mreturn\u001b[39;00m \u001b[38;5;28mself\u001b[39m\u001b[38;5;241m.\u001b[39m_engine\u001b[38;5;241m.\u001b[39mget_loc(casted_key)\n\u001b[1;32m   3803\u001b[0m \u001b[38;5;28;01mexcept\u001b[39;00m \u001b[38;5;167;01mKeyError\u001b[39;00m \u001b[38;5;28;01mas\u001b[39;00m err:\n\u001b[0;32m-> 3804\u001b[0m     \u001b[38;5;28;01mraise\u001b[39;00m \u001b[38;5;167;01mKeyError\u001b[39;00m(key) \u001b[38;5;28;01mfrom\u001b[39;00m \u001b[38;5;21;01merr\u001b[39;00m\n\u001b[1;32m   3805\u001b[0m \u001b[38;5;28;01mexcept\u001b[39;00m \u001b[38;5;167;01mTypeError\u001b[39;00m:\n\u001b[1;32m   3806\u001b[0m     \u001b[38;5;66;03m# If we have a listlike key, _check_indexing_error will raise\u001b[39;00m\n\u001b[1;32m   3807\u001b[0m     \u001b[38;5;66;03m#  InvalidIndexError. Otherwise we fall through and re-raise\u001b[39;00m\n\u001b[1;32m   3808\u001b[0m     \u001b[38;5;66;03m#  the TypeError.\u001b[39;00m\n\u001b[1;32m   3809\u001b[0m     \u001b[38;5;28mself\u001b[39m\u001b[38;5;241m.\u001b[39m_check_indexing_error(key)\n",
      "\u001b[0;31mKeyError\u001b[0m: 'Neg'"
     ]
    }
   ],
   "source": [
    "   \n",
    "# To calculate Sortiono Ratio\n",
    "St1=((pow((Data1.iloc[3351,3]/Data1.iloc[0,3]),0.1)-1)*100-5.52)/(Data1['Neg'].std()*pow(252,0.5))\n",
    "St2=((pow((Data2.iloc[3351,3]/Data2.iloc[0,3]),0.1)-1)*100-5.52)/(Data2['Neg'].std()*pow(252,0.5))\n",
    "St3=((pow((Data3.iloc[3351,3]/Data3.iloc[0,3]),0.1)-1)*100-5.52)/(Data3['Neg'].std()*pow(252,0.5))\n",
    "St4=((pow((Data4.iloc[3258,3]/Data4.iloc[0,3]),0.1)-1)*100-5.52)/(Data4['Neg'].std()*pow(252,0.5))\n",
    "St5=((pow((Data5.iloc[3351,3]/Data5.iloc[0,3]),0.1)-1)*100-5.52)/(Data5['Neg'].std()*pow(252,0.5))\n",
    "print(St1)\n",
    "print(St2)\n",
    "print(St3)\n",
    "print(St4)\n",
    "print(St5)"
   ]
  },
  {
   "cell_type": "code",
   "execution_count": null,
   "id": "e03f6095",
   "metadata": {},
   "outputs": [],
   "source": []
  }
 ],
 "metadata": {
  "kernelspec": {
   "display_name": "Python 3 (ipykernel)",
   "language": "python",
   "name": "python3"
  },
  "language_info": {
   "codemirror_mode": {
    "name": "ipython",
    "version": 3
   },
   "file_extension": ".py",
   "mimetype": "text/x-python",
   "name": "python",
   "nbconvert_exporter": "python",
   "pygments_lexer": "ipython3",
   "version": "3.10.9"
  }
 },
 "nbformat": 4,
 "nbformat_minor": 5
}
